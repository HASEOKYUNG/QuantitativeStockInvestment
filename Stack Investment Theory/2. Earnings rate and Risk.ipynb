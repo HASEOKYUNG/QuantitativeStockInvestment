{
 "cells": [
  {
   "cell_type": "markdown",
   "id": "2cc9b504",
   "metadata": {},
   "source": [
    "### Import"
   ]
  },
  {
   "cell_type": "code",
   "execution_count": 1,
   "id": "545bf323",
   "metadata": {},
   "outputs": [],
   "source": [
    "import numpy as np\n",
    "import pandas as pd\n",
    "import FinanceDataReader as fdr\n",
    "from scipy.stats.mstats import gmean\n",
    "\n",
    "import matplotlib.pyplot as plt\n",
    "plt.rc('font', family='Malgun Gothic')\n",
    "plt.rc('axes', unicode_minus=False)\n",
    "\n",
    "# ignore warnings\n",
    "import warnings ; warnings.filterwarnings('ignore')"
   ]
  },
  {
   "cell_type": "markdown",
   "id": "632303ec",
   "metadata": {},
   "source": [
    "### Read Data"
   ]
  },
  {
   "cell_type": "code",
   "execution_count": 2,
   "id": "fcaeea06",
   "metadata": {},
   "outputs": [],
   "source": [
    "def fdr_stock(NAME, START, END):\n",
    "    code = fdr.StockListing('KRX').query('Name == @NAME')['Code'].values[0]\n",
    "    return fdr.DataReader(code, START, END)"
   ]
  },
  {
   "cell_type": "code",
   "execution_count": 3,
   "id": "d48ae04a",
   "metadata": {},
   "outputs": [
    {
     "data": {
      "text/html": [
       "<div>\n",
       "<style scoped>\n",
       "    .dataframe tbody tr th:only-of-type {\n",
       "        vertical-align: middle;\n",
       "    }\n",
       "\n",
       "    .dataframe tbody tr th {\n",
       "        vertical-align: top;\n",
       "    }\n",
       "\n",
       "    .dataframe thead th {\n",
       "        text-align: right;\n",
       "    }\n",
       "</style>\n",
       "<table border=\"1\" class=\"dataframe\">\n",
       "  <thead>\n",
       "    <tr style=\"text-align: right;\">\n",
       "      <th></th>\n",
       "      <th>Open</th>\n",
       "      <th>High</th>\n",
       "      <th>Low</th>\n",
       "      <th>Close</th>\n",
       "      <th>Volume</th>\n",
       "      <th>Change</th>\n",
       "    </tr>\n",
       "    <tr>\n",
       "      <th>Date</th>\n",
       "      <th></th>\n",
       "      <th></th>\n",
       "      <th></th>\n",
       "      <th></th>\n",
       "      <th></th>\n",
       "      <th></th>\n",
       "    </tr>\n",
       "  </thead>\n",
       "  <tbody>\n",
       "    <tr>\n",
       "      <th>2020-01-02</th>\n",
       "      <td>55500</td>\n",
       "      <td>56000</td>\n",
       "      <td>55000</td>\n",
       "      <td>55200</td>\n",
       "      <td>12993228</td>\n",
       "      <td>-0.010753</td>\n",
       "    </tr>\n",
       "    <tr>\n",
       "      <th>2020-01-03</th>\n",
       "      <td>56000</td>\n",
       "      <td>56600</td>\n",
       "      <td>54900</td>\n",
       "      <td>55500</td>\n",
       "      <td>15422255</td>\n",
       "      <td>0.005435</td>\n",
       "    </tr>\n",
       "    <tr>\n",
       "      <th>2020-01-06</th>\n",
       "      <td>54900</td>\n",
       "      <td>55600</td>\n",
       "      <td>54600</td>\n",
       "      <td>55500</td>\n",
       "      <td>10278951</td>\n",
       "      <td>0.000000</td>\n",
       "    </tr>\n",
       "    <tr>\n",
       "      <th>2020-01-07</th>\n",
       "      <td>55700</td>\n",
       "      <td>56400</td>\n",
       "      <td>55600</td>\n",
       "      <td>55800</td>\n",
       "      <td>10009778</td>\n",
       "      <td>0.005405</td>\n",
       "    </tr>\n",
       "    <tr>\n",
       "      <th>2020-01-08</th>\n",
       "      <td>56200</td>\n",
       "      <td>57400</td>\n",
       "      <td>55900</td>\n",
       "      <td>56800</td>\n",
       "      <td>23501171</td>\n",
       "      <td>0.017921</td>\n",
       "    </tr>\n",
       "    <tr>\n",
       "      <th>...</th>\n",
       "      <td>...</td>\n",
       "      <td>...</td>\n",
       "      <td>...</td>\n",
       "      <td>...</td>\n",
       "      <td>...</td>\n",
       "      <td>...</td>\n",
       "    </tr>\n",
       "    <tr>\n",
       "      <th>2022-12-23</th>\n",
       "      <td>58200</td>\n",
       "      <td>58400</td>\n",
       "      <td>57700</td>\n",
       "      <td>58100</td>\n",
       "      <td>9829407</td>\n",
       "      <td>-0.016920</td>\n",
       "    </tr>\n",
       "    <tr>\n",
       "      <th>2022-12-26</th>\n",
       "      <td>58000</td>\n",
       "      <td>58100</td>\n",
       "      <td>57700</td>\n",
       "      <td>57900</td>\n",
       "      <td>6756411</td>\n",
       "      <td>-0.003442</td>\n",
       "    </tr>\n",
       "    <tr>\n",
       "      <th>2022-12-27</th>\n",
       "      <td>58000</td>\n",
       "      <td>58400</td>\n",
       "      <td>57900</td>\n",
       "      <td>58100</td>\n",
       "      <td>10667027</td>\n",
       "      <td>0.003454</td>\n",
       "    </tr>\n",
       "    <tr>\n",
       "      <th>2022-12-28</th>\n",
       "      <td>57600</td>\n",
       "      <td>57600</td>\n",
       "      <td>56400</td>\n",
       "      <td>56600</td>\n",
       "      <td>14665410</td>\n",
       "      <td>-0.025818</td>\n",
       "    </tr>\n",
       "    <tr>\n",
       "      <th>2022-12-29</th>\n",
       "      <td>56000</td>\n",
       "      <td>56200</td>\n",
       "      <td>55300</td>\n",
       "      <td>55300</td>\n",
       "      <td>11295935</td>\n",
       "      <td>-0.022968</td>\n",
       "    </tr>\n",
       "  </tbody>\n",
       "</table>\n",
       "<p>742 rows × 6 columns</p>\n",
       "</div>"
      ],
      "text/plain": [
       "             Open   High    Low  Close    Volume    Change\n",
       "Date                                                      \n",
       "2020-01-02  55500  56000  55000  55200  12993228 -0.010753\n",
       "2020-01-03  56000  56600  54900  55500  15422255  0.005435\n",
       "2020-01-06  54900  55600  54600  55500  10278951  0.000000\n",
       "2020-01-07  55700  56400  55600  55800  10009778  0.005405\n",
       "2020-01-08  56200  57400  55900  56800  23501171  0.017921\n",
       "...           ...    ...    ...    ...       ...       ...\n",
       "2022-12-23  58200  58400  57700  58100   9829407 -0.016920\n",
       "2022-12-26  58000  58100  57700  57900   6756411 -0.003442\n",
       "2022-12-27  58000  58400  57900  58100  10667027  0.003454\n",
       "2022-12-28  57600  57600  56400  56600  14665410 -0.025818\n",
       "2022-12-29  56000  56200  55300  55300  11295935 -0.022968\n",
       "\n",
       "[742 rows x 6 columns]"
      ]
     },
     "metadata": {},
     "output_type": "display_data"
    }
   ],
   "source": [
    "samsung = fdr_stock(\"삼성전자\", '2020-01-01', '2023-01-01')\n",
    "display(samsung)"
   ]
  },
  {
   "cell_type": "markdown",
   "id": "c940eaa5",
   "metadata": {},
   "source": [
    "### 수익률\n",
    "투자액 1원에 대해 어느 정도의 성과를 얻었는지를 나타내는 지표이다.\n",
    "- 기대수익률:  투자 시 투자금 대비 얻고자 하는 수익 비율 \n",
    "- 필수수익률(요구수익률): 위험이 같은 상품 중 최고수익률\n",
    "- 기회비용: 투자자가 포기한 여러 대안 중 최고수익률\n",
    "- 할인율"
   ]
  },
  {
   "cell_type": "markdown",
   "id": "f78d805e",
   "metadata": {},
   "source": [
    "### 수익률 산출\n",
    "- 수익률\n",
    "  $$\\large \\text{수익률} = \\frac{\\text{총 수익} - \\text{투자금액}}{\\text{투자금액}} = \\frac{P_1+D_1 - P_0}{P_0} = \\frac{P_1 - P_0}{P_0} + \\frac{D_1}{P_0} = \\text{자본이득률} + \\text{배당수익률}$$\n",
    "$$(P_0 : \\text{현재 주가}, P_1 : \\text{투자시점 당시 주가}, D_1: \\text{배당금})$$\n",
    "  - $[-100\\text{%}, \\infty]$를 범위로 갖는다.\n",
    "- 로그수익률(연속복리수익률): 이자를 n번 `균분지급`하는 상황의 수익률\n",
    "  $$R_t = \\frac{P_t+D_t - P_{t-1}}{P_{t-1}} = e^{r_t} - 1, ~R_t + 1 = (1 + \\frac{r_t}{n})^n$$\n",
    "  $$r_t = ln(P_t) - ln(P_{t-1})$$\n",
    "  $$(R_t :\\text{수익률},~ r_t: \\text{로그수익률})$$\n",
    "  - $[-\\infty, \\infty]$에서 0을 중심으로 좌우대칭된 분포로 통계분석에 유용하다.\n",
    "  - 로그함수 성질에 따라 특정기간의 로그수익률을 각 시점의 수익률을 더하면 된다.\n",
    "  "
   ]
  },
  {
   "cell_type": "code",
   "execution_count": 4,
   "id": "b9690396",
   "metadata": {},
   "outputs": [
    {
     "data": {
      "text/plain": [
       "Date\n",
       "2020-01-02    0.000000\n",
       "2020-01-03    0.005435\n",
       "2020-01-06    0.000000\n",
       "2020-01-07    0.005405\n",
       "2020-01-08    0.017921\n",
       "                ...   \n",
       "2022-12-23   -0.016920\n",
       "2022-12-26   -0.003442\n",
       "2022-12-27    0.003454\n",
       "2022-12-28   -0.025818\n",
       "2022-12-29   -0.022968\n",
       "Name: Close, Length: 742, dtype: float64"
      ]
     },
     "execution_count": 4,
     "metadata": {},
     "output_type": "execute_result"
    }
   ],
   "source": [
    "# (일반)수익률\n",
    "samsung['Close'].pct_change().fillna(0)"
   ]
  },
  {
   "cell_type": "code",
   "execution_count": 5,
   "id": "fae4f3a0",
   "metadata": {
    "scrolled": true
   },
   "outputs": [
    {
     "data": {
      "text/plain": [
       "Date\n",
       "2020-01-02         NaN\n",
       "2020-01-03    0.005435\n",
       "2020-01-06    0.005435\n",
       "2020-01-07    0.010870\n",
       "2020-01-08    0.028986\n",
       "                ...   \n",
       "2022-12-23    0.052536\n",
       "2022-12-26    0.048913\n",
       "2022-12-27    0.052536\n",
       "2022-12-28    0.025362\n",
       "2022-12-29    0.001812\n",
       "Name: Close, Length: 742, dtype: float64"
      ]
     },
     "execution_count": 5,
     "metadata": {},
     "output_type": "execute_result"
    }
   ],
   "source": [
    "# 누적 (일반)수익률\n",
    "(samsung['Close'].pct_change() + 1).cumprod() - 1"
   ]
  },
  {
   "cell_type": "code",
   "execution_count": 6,
   "id": "ab22a9a1",
   "metadata": {},
   "outputs": [
    {
     "data": {
      "text/plain": [
       "<matplotlib.collections.PolyCollection at 0x20ab7876130>"
      ]
     },
     "execution_count": 6,
     "metadata": {},
     "output_type": "execute_result"
    },
    {
     "data": {
      "image/png": "[encoded data removed]",
      "text/plain": [
       "<Figure size 1440x720 with 1 Axes>"
      ]
     },
     "metadata": {
      "needs_background": "light"
     },
     "output_type": "display_data"
    }
   ],
   "source": [
    "ease = (samsung['Close'].pct_change() + 1).cumprod() - 1\n",
    "ease.plot(figsize=(20,10), linewidth=1)\n",
    "plt.fill_between(ease.index, 0, ease, where=ease >= 0, facecolor='red', alpha=0.5)\n",
    "plt.fill_between(ease.index, 0, ease, where=ease <= 0, facecolor='blue', alpha=0.5)"
   ]
  },
  {
   "cell_type": "code",
   "execution_count": 7,
   "id": "4b1c3041",
   "metadata": {
    "scrolled": true
   },
   "outputs": [
    {
     "data": {
      "text/plain": [
       "Date\n",
       "2020-01-02         NaN\n",
       "2020-01-03    0.005420\n",
       "2020-01-06    0.000000\n",
       "2020-01-07    0.005391\n",
       "2020-01-08    0.017762\n",
       "                ...   \n",
       "2022-12-23   -0.017065\n",
       "2022-12-26   -0.003448\n",
       "2022-12-27    0.003448\n",
       "2022-12-28   -0.026157\n",
       "2022-12-29   -0.023236\n",
       "Name: Close, Length: 742, dtype: float64"
      ]
     },
     "execution_count": 7,
     "metadata": {},
     "output_type": "execute_result"
    }
   ],
   "source": [
    "# 로그 수익률\n",
    "np.log(samsung['Close'] / samsung['Close'].shift(1))"
   ]
  },
  {
   "cell_type": "code",
   "execution_count": 8,
   "id": "a55df9a5",
   "metadata": {},
   "outputs": [
    {
     "data": {
      "text/plain": [
       "Date\n",
       "2020-01-02    0.000000\n",
       "2020-01-03    0.005420\n",
       "2020-01-06    0.005420\n",
       "2020-01-07    0.010811\n",
       "2020-01-08    0.028573\n",
       "                ...   \n",
       "2022-12-23    0.051203\n",
       "2022-12-26    0.047754\n",
       "2022-12-27    0.051203\n",
       "2022-12-28    0.025046\n",
       "2022-12-29    0.001810\n",
       "Name: Close, Length: 742, dtype: float64"
      ]
     },
     "execution_count": 8,
     "metadata": {},
     "output_type": "execute_result"
    }
   ],
   "source": [
    "# 누적 로그수익률\n",
    "np.log(samsung['Close'] / samsung['Close'].shift(1)).cumsum().fillna(0)"
   ]
  },
  {
   "cell_type": "code",
   "execution_count": 9,
   "id": "6582cd64",
   "metadata": {},
   "outputs": [
    {
     "data": {
      "text/plain": [
       "<matplotlib.collections.PolyCollection at 0x20ab7a7b280>"
      ]
     },
     "execution_count": 9,
     "metadata": {},
     "output_type": "execute_result"
    },
    {
     "data": {
      "image/png": "[encoded data removed]",
      "text/plain": [
       "<Figure size 1440x720 with 1 Axes>"
      ]
     },
     "metadata": {
      "needs_background": "light"
     },
     "output_type": "display_data"
    }
   ],
   "source": [
    "ease = np.log(samsung['Close'] / samsung['Close'].shift(1)).cumsum().fillna(0)\n",
    "ease.plot(figsize=(20,10), linewidth=1)\n",
    "plt.fill_between(ease.index, 0, ease, where=ease >= 0, facecolor='red', alpha=0.5)\n",
    "plt.fill_between(ease.index, 0, ease, where=ease <= 0, facecolor='blue', alpha=0.5)"
   ]
  },
  {
   "cell_type": "code",
   "execution_count": 10,
   "id": "e3a64080",
   "metadata": {},
   "outputs": [
    {
     "data": {
      "text/plain": [
       "0.001809955245239081"
      ]
     },
     "execution_count": 10,
     "metadata": {},
     "output_type": "execute_result"
    }
   ],
   "source": [
    "# 기간 로그수익률을 모두 더한 것으로 (최종가격 - 최초가격)/최초가격으로도 구할 수 있다.\n",
    "# 일반적으로 기간 로그수익률이 기간 수익률보다 작다.\n",
    "np.log(samsung['Close'] / samsung['Close'].shift(1)).sum()"
   ]
  },
  {
   "cell_type": "code",
   "execution_count": 11,
   "id": "e22f7373",
   "metadata": {},
   "outputs": [
    {
     "data": {
      "text/plain": [
       "Date\n",
       "2020-01-02    0.000000\n",
       "2020-01-03    0.005435\n",
       "2020-01-06    0.005435\n",
       "2020-01-07    0.010870\n",
       "2020-01-08    0.028986\n",
       "                ...   \n",
       "2022-12-23    0.052536\n",
       "2022-12-26    0.048913\n",
       "2022-12-27    0.052536\n",
       "2022-12-28    0.025362\n",
       "2022-12-29    0.001812\n",
       "Name: Close, Length: 742, dtype: float64"
      ]
     },
     "execution_count": 11,
     "metadata": {},
     "output_type": "execute_result"
    }
   ],
   "source": [
    "# 누적 로그 수익률로부터 지수변환으로 누적 수익률을 구할 수 있다.\n",
    "ease.apply(np.exp) - 1"
   ]
  },
  {
   "cell_type": "markdown",
   "id": "0e6afad6",
   "metadata": {},
   "source": [
    "### 기간수익률 산출\n",
    "- 일반적으로 산술평균으로 구한다.\n",
    "  $$ \\frac{1}{n}\\sum_{i=1}^n r_k$$\n",
    "- `수익률의 변동성이 큰 것을 보수적으로 판단`하거나 복리 개념을 잘 반영하기 위해 기하평균을 사용하기도 한다.\n",
    " $$\\sqrt[\\large n\\\\\\\\]{\\sum_{i=1}^n(1+r_k)} - 1$$"
   ]
  },
  {
   "cell_type": "code",
   "execution_count": 12,
   "id": "aad6036c",
   "metadata": {
    "scrolled": true
   },
   "outputs": [
    {
     "data": {
      "text/html": [
       "<div>\n",
       "<style scoped>\n",
       "    .dataframe tbody tr th:only-of-type {\n",
       "        vertical-align: middle;\n",
       "    }\n",
       "\n",
       "    .dataframe tbody tr th {\n",
       "        vertical-align: top;\n",
       "    }\n",
       "\n",
       "    .dataframe thead th {\n",
       "        text-align: right;\n",
       "    }\n",
       "</style>\n",
       "<table border=\"1\" class=\"dataframe\">\n",
       "  <thead>\n",
       "    <tr style=\"text-align: right;\">\n",
       "      <th></th>\n",
       "      <th>returns</th>\n",
       "      <th>balances</th>\n",
       "    </tr>\n",
       "  </thead>\n",
       "  <tbody>\n",
       "    <tr>\n",
       "      <th>0</th>\n",
       "      <td>0.0</td>\n",
       "      <td>1000.000000</td>\n",
       "    </tr>\n",
       "    <tr>\n",
       "      <th>1</th>\n",
       "      <td>0.4</td>\n",
       "      <td>1400.000000</td>\n",
       "    </tr>\n",
       "    <tr>\n",
       "      <th>2</th>\n",
       "      <td>-0.3</td>\n",
       "      <td>980.000000</td>\n",
       "    </tr>\n",
       "    <tr>\n",
       "      <th>3</th>\n",
       "      <td>0.4</td>\n",
       "      <td>1372.000000</td>\n",
       "    </tr>\n",
       "    <tr>\n",
       "      <th>4</th>\n",
       "      <td>-0.3</td>\n",
       "      <td>960.400000</td>\n",
       "    </tr>\n",
       "    <tr>\n",
       "      <th>5</th>\n",
       "      <td>0.4</td>\n",
       "      <td>1344.560000</td>\n",
       "    </tr>\n",
       "    <tr>\n",
       "      <th>6</th>\n",
       "      <td>-0.3</td>\n",
       "      <td>941.192000</td>\n",
       "    </tr>\n",
       "    <tr>\n",
       "      <th>7</th>\n",
       "      <td>0.4</td>\n",
       "      <td>1317.668800</td>\n",
       "    </tr>\n",
       "    <tr>\n",
       "      <th>8</th>\n",
       "      <td>-0.3</td>\n",
       "      <td>922.368160</td>\n",
       "    </tr>\n",
       "    <tr>\n",
       "      <th>9</th>\n",
       "      <td>0.4</td>\n",
       "      <td>1291.315424</td>\n",
       "    </tr>\n",
       "    <tr>\n",
       "      <th>10</th>\n",
       "      <td>-0.3</td>\n",
       "      <td>903.920797</td>\n",
       "    </tr>\n",
       "    <tr>\n",
       "      <th>11</th>\n",
       "      <td>0.4</td>\n",
       "      <td>1265.489116</td>\n",
       "    </tr>\n",
       "    <tr>\n",
       "      <th>12</th>\n",
       "      <td>-0.3</td>\n",
       "      <td>885.842381</td>\n",
       "    </tr>\n",
       "    <tr>\n",
       "      <th>13</th>\n",
       "      <td>0.4</td>\n",
       "      <td>1240.179333</td>\n",
       "    </tr>\n",
       "    <tr>\n",
       "      <th>14</th>\n",
       "      <td>-0.3</td>\n",
       "      <td>868.125533</td>\n",
       "    </tr>\n",
       "    <tr>\n",
       "      <th>15</th>\n",
       "      <td>0.4</td>\n",
       "      <td>1215.375747</td>\n",
       "    </tr>\n",
       "    <tr>\n",
       "      <th>16</th>\n",
       "      <td>-0.3</td>\n",
       "      <td>850.763023</td>\n",
       "    </tr>\n",
       "    <tr>\n",
       "      <th>17</th>\n",
       "      <td>0.4</td>\n",
       "      <td>1191.068232</td>\n",
       "    </tr>\n",
       "    <tr>\n",
       "      <th>18</th>\n",
       "      <td>-0.3</td>\n",
       "      <td>833.747762</td>\n",
       "    </tr>\n",
       "    <tr>\n",
       "      <th>19</th>\n",
       "      <td>0.4</td>\n",
       "      <td>1167.246867</td>\n",
       "    </tr>\n",
       "    <tr>\n",
       "      <th>20</th>\n",
       "      <td>-0.3</td>\n",
       "      <td>817.072807</td>\n",
       "    </tr>\n",
       "    <tr>\n",
       "      <th>21</th>\n",
       "      <td>0.4</td>\n",
       "      <td>1143.901930</td>\n",
       "    </tr>\n",
       "    <tr>\n",
       "      <th>22</th>\n",
       "      <td>-0.3</td>\n",
       "      <td>800.731351</td>\n",
       "    </tr>\n",
       "    <tr>\n",
       "      <th>23</th>\n",
       "      <td>0.4</td>\n",
       "      <td>1121.023891</td>\n",
       "    </tr>\n",
       "    <tr>\n",
       "      <th>24</th>\n",
       "      <td>-0.3</td>\n",
       "      <td>784.716724</td>\n",
       "    </tr>\n",
       "    <tr>\n",
       "      <th>25</th>\n",
       "      <td>0.4</td>\n",
       "      <td>1098.603413</td>\n",
       "    </tr>\n",
       "    <tr>\n",
       "      <th>26</th>\n",
       "      <td>-0.3</td>\n",
       "      <td>769.022389</td>\n",
       "    </tr>\n",
       "    <tr>\n",
       "      <th>27</th>\n",
       "      <td>0.4</td>\n",
       "      <td>1076.631345</td>\n",
       "    </tr>\n",
       "    <tr>\n",
       "      <th>28</th>\n",
       "      <td>-0.3</td>\n",
       "      <td>753.641941</td>\n",
       "    </tr>\n",
       "    <tr>\n",
       "      <th>29</th>\n",
       "      <td>0.4</td>\n",
       "      <td>1055.098718</td>\n",
       "    </tr>\n",
       "    <tr>\n",
       "      <th>30</th>\n",
       "      <td>-0.3</td>\n",
       "      <td>738.569103</td>\n",
       "    </tr>\n",
       "    <tr>\n",
       "      <th>31</th>\n",
       "      <td>0.4</td>\n",
       "      <td>1033.996744</td>\n",
       "    </tr>\n",
       "    <tr>\n",
       "      <th>32</th>\n",
       "      <td>-0.3</td>\n",
       "      <td>723.797721</td>\n",
       "    </tr>\n",
       "    <tr>\n",
       "      <th>33</th>\n",
       "      <td>0.4</td>\n",
       "      <td>1013.316809</td>\n",
       "    </tr>\n",
       "    <tr>\n",
       "      <th>34</th>\n",
       "      <td>-0.3</td>\n",
       "      <td>709.321766</td>\n",
       "    </tr>\n",
       "    <tr>\n",
       "      <th>35</th>\n",
       "      <td>0.4</td>\n",
       "      <td>993.050473</td>\n",
       "    </tr>\n",
       "    <tr>\n",
       "      <th>36</th>\n",
       "      <td>-0.3</td>\n",
       "      <td>695.135331</td>\n",
       "    </tr>\n",
       "  </tbody>\n",
       "</table>\n",
       "</div>"
      ],
      "text/plain": [
       "    returns     balances\n",
       "0       0.0  1000.000000\n",
       "1       0.4  1400.000000\n",
       "2      -0.3   980.000000\n",
       "3       0.4  1372.000000\n",
       "4      -0.3   960.400000\n",
       "5       0.4  1344.560000\n",
       "6      -0.3   941.192000\n",
       "7       0.4  1317.668800\n",
       "8      -0.3   922.368160\n",
       "9       0.4  1291.315424\n",
       "10     -0.3   903.920797\n",
       "11      0.4  1265.489116\n",
       "12     -0.3   885.842381\n",
       "13      0.4  1240.179333\n",
       "14     -0.3   868.125533\n",
       "15      0.4  1215.375747\n",
       "16     -0.3   850.763023\n",
       "17      0.4  1191.068232\n",
       "18     -0.3   833.747762\n",
       "19      0.4  1167.246867\n",
       "20     -0.3   817.072807\n",
       "21      0.4  1143.901930\n",
       "22     -0.3   800.731351\n",
       "23      0.4  1121.023891\n",
       "24     -0.3   784.716724\n",
       "25      0.4  1098.603413\n",
       "26     -0.3   769.022389\n",
       "27      0.4  1076.631345\n",
       "28     -0.3   753.641941\n",
       "29      0.4  1055.098718\n",
       "30     -0.3   738.569103\n",
       "31      0.4  1033.996744\n",
       "32     -0.3   723.797721\n",
       "33      0.4  1013.316809\n",
       "34     -0.3   709.321766\n",
       "35      0.4   993.050473\n",
       "36     -0.3   695.135331"
      ]
     },
     "execution_count": 12,
     "metadata": {},
     "output_type": "execute_result"
    }
   ],
   "source": [
    "# 1000만원을 투자했으며 3년간 월 40% 수익, 30% 손실이 번갈아 이루어졌다.\n",
    "returns = [0] + [0.4, -0.3] * 18\n",
    "\n",
    "balances = [1000]\n",
    "for r in returns[1:]:\n",
    "    balances.append(balances[-1] * (1+r))\n",
    "    \n",
    "data = pd.DataFrame({'returns':returns, 'balances':balances})\n",
    "data"
   ]
  },
  {
   "cell_type": "code",
   "execution_count": 13,
   "id": "578d2b18",
   "metadata": {},
   "outputs": [
    {
     "name": "stdout",
     "output_type": "stream",
     "text": [
      "월수익률(산술): 0.05000000000000004\n",
      "월수익률(기하): -0.010050506338833531\n"
     ]
    }
   ],
   "source": [
    "print(f\"월수익률(산술): {data['returns'][1:].mean()}\")\n",
    "print(f\"월수익률(기하): {gmean(data['returns'][1:]+1)-1}\")"
   ]
  },
  {
   "cell_type": "markdown",
   "id": "58e86896",
   "metadata": {},
   "source": [
    "### 위험\n",
    "기대수익률을 벌지 못하는 불확실성을 의미한다.<br>\n",
    "- 위험이 큰 상품은 위험을 무릎쓰고 투자한 것에 대해 추가적인 보상, 위험프리미엄을 제공한다.\n",
    "- 기대수익률과 다른 예상 외 수익률이 발생할 가능성이 높음을 의미하는 위험을 수익률의 표준편차로 정의한다."
   ]
  },
  {
   "cell_type": "code",
   "execution_count": 14,
   "id": "ab273ea7",
   "metadata": {},
   "outputs": [
    {
     "data": {
      "text/html": [
       "<div>\n",
       "<style scoped>\n",
       "    .dataframe tbody tr th:only-of-type {\n",
       "        vertical-align: middle;\n",
       "    }\n",
       "\n",
       "    .dataframe tbody tr th {\n",
       "        vertical-align: top;\n",
       "    }\n",
       "\n",
       "    .dataframe thead th {\n",
       "        text-align: right;\n",
       "    }\n",
       "</style>\n",
       "<table border=\"1\" class=\"dataframe\">\n",
       "  <thead>\n",
       "    <tr style=\"text-align: right;\">\n",
       "      <th></th>\n",
       "      <th>returns</th>\n",
       "      <th>balances</th>\n",
       "    </tr>\n",
       "  </thead>\n",
       "  <tbody>\n",
       "    <tr>\n",
       "      <th>0</th>\n",
       "      <td>0.00</td>\n",
       "      <td>1000.000000</td>\n",
       "    </tr>\n",
       "    <tr>\n",
       "      <th>1</th>\n",
       "      <td>0.16</td>\n",
       "      <td>1160.000000</td>\n",
       "    </tr>\n",
       "    <tr>\n",
       "      <th>2</th>\n",
       "      <td>-0.12</td>\n",
       "      <td>1020.800000</td>\n",
       "    </tr>\n",
       "    <tr>\n",
       "      <th>3</th>\n",
       "      <td>0.16</td>\n",
       "      <td>1184.128000</td>\n",
       "    </tr>\n",
       "    <tr>\n",
       "      <th>4</th>\n",
       "      <td>-0.12</td>\n",
       "      <td>1042.032640</td>\n",
       "    </tr>\n",
       "    <tr>\n",
       "      <th>5</th>\n",
       "      <td>0.16</td>\n",
       "      <td>1208.757862</td>\n",
       "    </tr>\n",
       "    <tr>\n",
       "      <th>6</th>\n",
       "      <td>-0.12</td>\n",
       "      <td>1063.706919</td>\n",
       "    </tr>\n",
       "    <tr>\n",
       "      <th>7</th>\n",
       "      <td>0.16</td>\n",
       "      <td>1233.900026</td>\n",
       "    </tr>\n",
       "    <tr>\n",
       "      <th>8</th>\n",
       "      <td>-0.12</td>\n",
       "      <td>1085.832023</td>\n",
       "    </tr>\n",
       "    <tr>\n",
       "      <th>9</th>\n",
       "      <td>0.16</td>\n",
       "      <td>1259.565146</td>\n",
       "    </tr>\n",
       "    <tr>\n",
       "      <th>10</th>\n",
       "      <td>-0.12</td>\n",
       "      <td>1108.417329</td>\n",
       "    </tr>\n",
       "    <tr>\n",
       "      <th>11</th>\n",
       "      <td>0.16</td>\n",
       "      <td>1285.764102</td>\n",
       "    </tr>\n",
       "    <tr>\n",
       "      <th>12</th>\n",
       "      <td>-0.12</td>\n",
       "      <td>1131.472409</td>\n",
       "    </tr>\n",
       "    <tr>\n",
       "      <th>13</th>\n",
       "      <td>0.16</td>\n",
       "      <td>1312.507995</td>\n",
       "    </tr>\n",
       "    <tr>\n",
       "      <th>14</th>\n",
       "      <td>-0.12</td>\n",
       "      <td>1155.007035</td>\n",
       "    </tr>\n",
       "    <tr>\n",
       "      <th>15</th>\n",
       "      <td>0.16</td>\n",
       "      <td>1339.808161</td>\n",
       "    </tr>\n",
       "    <tr>\n",
       "      <th>16</th>\n",
       "      <td>-0.12</td>\n",
       "      <td>1179.031182</td>\n",
       "    </tr>\n",
       "    <tr>\n",
       "      <th>17</th>\n",
       "      <td>0.16</td>\n",
       "      <td>1367.676171</td>\n",
       "    </tr>\n",
       "    <tr>\n",
       "      <th>18</th>\n",
       "      <td>-0.12</td>\n",
       "      <td>1203.555030</td>\n",
       "    </tr>\n",
       "    <tr>\n",
       "      <th>19</th>\n",
       "      <td>0.16</td>\n",
       "      <td>1396.123835</td>\n",
       "    </tr>\n",
       "    <tr>\n",
       "      <th>20</th>\n",
       "      <td>-0.12</td>\n",
       "      <td>1228.588975</td>\n",
       "    </tr>\n",
       "    <tr>\n",
       "      <th>21</th>\n",
       "      <td>0.16</td>\n",
       "      <td>1425.163211</td>\n",
       "    </tr>\n",
       "    <tr>\n",
       "      <th>22</th>\n",
       "      <td>-0.12</td>\n",
       "      <td>1254.143626</td>\n",
       "    </tr>\n",
       "    <tr>\n",
       "      <th>23</th>\n",
       "      <td>0.16</td>\n",
       "      <td>1454.806606</td>\n",
       "    </tr>\n",
       "    <tr>\n",
       "      <th>24</th>\n",
       "      <td>-0.12</td>\n",
       "      <td>1280.229813</td>\n",
       "    </tr>\n",
       "    <tr>\n",
       "      <th>25</th>\n",
       "      <td>0.16</td>\n",
       "      <td>1485.066583</td>\n",
       "    </tr>\n",
       "    <tr>\n",
       "      <th>26</th>\n",
       "      <td>-0.12</td>\n",
       "      <td>1306.858593</td>\n",
       "    </tr>\n",
       "    <tr>\n",
       "      <th>27</th>\n",
       "      <td>0.16</td>\n",
       "      <td>1515.955968</td>\n",
       "    </tr>\n",
       "    <tr>\n",
       "      <th>28</th>\n",
       "      <td>-0.12</td>\n",
       "      <td>1334.041252</td>\n",
       "    </tr>\n",
       "    <tr>\n",
       "      <th>29</th>\n",
       "      <td>0.16</td>\n",
       "      <td>1547.487852</td>\n",
       "    </tr>\n",
       "    <tr>\n",
       "      <th>30</th>\n",
       "      <td>-0.12</td>\n",
       "      <td>1361.789310</td>\n",
       "    </tr>\n",
       "    <tr>\n",
       "      <th>31</th>\n",
       "      <td>0.16</td>\n",
       "      <td>1579.675600</td>\n",
       "    </tr>\n",
       "    <tr>\n",
       "      <th>32</th>\n",
       "      <td>-0.12</td>\n",
       "      <td>1390.114528</td>\n",
       "    </tr>\n",
       "    <tr>\n",
       "      <th>33</th>\n",
       "      <td>0.16</td>\n",
       "      <td>1612.532852</td>\n",
       "    </tr>\n",
       "    <tr>\n",
       "      <th>34</th>\n",
       "      <td>-0.12</td>\n",
       "      <td>1419.028910</td>\n",
       "    </tr>\n",
       "    <tr>\n",
       "      <th>35</th>\n",
       "      <td>0.16</td>\n",
       "      <td>1646.073535</td>\n",
       "    </tr>\n",
       "    <tr>\n",
       "      <th>36</th>\n",
       "      <td>-0.12</td>\n",
       "      <td>1448.544711</td>\n",
       "    </tr>\n",
       "  </tbody>\n",
       "</table>\n",
       "</div>"
      ],
      "text/plain": [
       "    returns     balances\n",
       "0      0.00  1000.000000\n",
       "1      0.16  1160.000000\n",
       "2     -0.12  1020.800000\n",
       "3      0.16  1184.128000\n",
       "4     -0.12  1042.032640\n",
       "5      0.16  1208.757862\n",
       "6     -0.12  1063.706919\n",
       "7      0.16  1233.900026\n",
       "8     -0.12  1085.832023\n",
       "9      0.16  1259.565146\n",
       "10    -0.12  1108.417329\n",
       "11     0.16  1285.764102\n",
       "12    -0.12  1131.472409\n",
       "13     0.16  1312.507995\n",
       "14    -0.12  1155.007035\n",
       "15     0.16  1339.808161\n",
       "16    -0.12  1179.031182\n",
       "17     0.16  1367.676171\n",
       "18    -0.12  1203.555030\n",
       "19     0.16  1396.123835\n",
       "20    -0.12  1228.588975\n",
       "21     0.16  1425.163211\n",
       "22    -0.12  1254.143626\n",
       "23     0.16  1454.806606\n",
       "24    -0.12  1280.229813\n",
       "25     0.16  1485.066583\n",
       "26    -0.12  1306.858593\n",
       "27     0.16  1515.955968\n",
       "28    -0.12  1334.041252\n",
       "29     0.16  1547.487852\n",
       "30    -0.12  1361.789310\n",
       "31     0.16  1579.675600\n",
       "32    -0.12  1390.114528\n",
       "33     0.16  1612.532852\n",
       "34    -0.12  1419.028910\n",
       "35     0.16  1646.073535\n",
       "36    -0.12  1448.544711"
      ]
     },
     "execution_count": 14,
     "metadata": {},
     "output_type": "execute_result"
    }
   ],
   "source": [
    "# 투자금의 일부만 투자상태로 유지해 손실을 줄일 수 있다.\n",
    "# 기간수익률 예제 상황에서 투자액의 40%만 유지한다.(분할투자)\n",
    "# 16%(40%*0.4) 수익과 12%(30%*0.4) 손실이 번갈아 발생하는 꼴로 수익과 손실 사이 격차, 위험이 줄였다.\n",
    "returns = [0] + list(map(lambda x: x*0.4, [0.4, -0.3])) * 18\n",
    "\n",
    "balances = [1000]\n",
    "for r in returns[1:]:\n",
    "    balances.append(balances[-1] * (1+r))\n",
    "    \n",
    "data = pd.DataFrame({'returns':returns, 'balances':balances})\n",
    "data"
   ]
  },
  {
   "cell_type": "code",
   "execution_count": 15,
   "id": "16e72ad8",
   "metadata": {},
   "outputs": [],
   "source": [
    "gmeans = []\n",
    "for p in np.linspace(0.0, 1.0, 100):\n",
    "    returns = [0] + list(map(lambda x: x*p, [0.2,-0.3,0.4,-0.2]))\n",
    "    gmeans.append(gmean(list(map(lambda x: x+1, returns))[1:])-1)"
   ]
  },
  {
   "cell_type": "code",
   "execution_count": 16,
   "id": "f186f36d",
   "metadata": {},
   "outputs": [
    {
     "data": {
      "image/png": "[encoded data removed]",
      "text/plain": [
       "<Figure size 1440x720 with 1 Axes>"
      ]
     },
     "metadata": {
      "needs_background": "light"
     },
     "output_type": "display_data"
    }
   ],
   "source": [
    "plt.figure(figsize=(20,10))\n",
    "plt.plot(np.linspace(0.0, 1.0, 100), gmeans)\n",
    "plt.title('분할투자비율 당 기하평균수익률')\n",
    "plt.grid()\n",
    "plt.show()"
   ]
  },
  {
   "cell_type": "code",
   "execution_count": 17,
   "id": "bd5f19cc",
   "metadata": {
    "scrolled": true
   },
   "outputs": [
    {
     "name": "stdout",
     "output_type": "stream",
     "text": [
      "0.31626262626262625\n"
     ]
    }
   ],
   "source": [
    "# 해당 주식에 전액을 투자하기 보단 원금의 31% 정도를 투자하고 다른 주식에도 분산 투자하면 수익률을 더 높일 수 있다.\n",
    "print(np.linspace(0.0, 1.01, 100)[np.array(gmeans).argmax()])"
   ]
  },
  {
   "cell_type": "code",
   "execution_count": null,
   "id": "d618d9ac",
   "metadata": {},
   "outputs": [],
   "source": []
  }
 ],
 "metadata": {
  "kernelspec": {
   "display_name": "Python 3 (ipykernel)",
   "language": "python",
   "name": "python3"
  },
  "language_info": {
   "codemirror_mode": {
    "name": "ipython",
    "version": 3
   },
   "file_extension": ".py",
   "mimetype": "text/x-python",
   "name": "python",
   "nbconvert_exporter": "python",
   "pygments_lexer": "ipython3",
   "version": "3.9.12"
  }
 },
 "nbformat": 4,
 "nbformat_minor": 5
}
