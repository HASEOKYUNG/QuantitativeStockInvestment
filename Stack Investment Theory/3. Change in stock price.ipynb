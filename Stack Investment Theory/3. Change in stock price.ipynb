{
 "cells": [
  {
   "cell_type": "markdown",
   "id": "f74bfd5c",
   "metadata": {},
   "source": [
    "## 주식 가격 변화\n",
    "- 단기적으론 정보 확산 범위, 부정확한 정보의 확산, 심리편향, 사회적 전이 편향 등에 의해 주가는 변동한다.\n",
    "- 장기적으론 주식가격은 기업이 주주에게 지불할 미래 배당의 현재가치의 합(Fundamental)로 수렴한다.\n",
    "- 주가가 Fundamental에 수렴하는 과정을 가격발견이라 하며 <br>\n",
    "  투자자들은 가격발견 동안 과소평가된 주식은 싼 값에 사고 과대평가될 때 비싼 값에 파는 차익거래로 수익을 만든다."
   ]
  },
  {
   "cell_type": "markdown",
   "id": "8b95e662",
   "metadata": {},
   "source": [
    "## 비효율적 시장\n",
    "주가와 Fundamental과의 괴리가 오랫동안 지속되는, 가격발견이 긴 시장으로 주식으로 수익 창출이 가능한 이유이다.\n",
    "- 위험 외에도 수익률에 영향을 미치는 confound factor 발굴로 수익 창출, confound factor가 밝혀짐으로써 시장의 효율성 향상, 주가의 적정가격 도달이 이루어진다.\n",
    "- 비효율적 시장의 발생 원인으론 정보반영 편향, 심리편향, 사회적 전이 편향이 있다.<br>\n",
    "  $\\bullet$ 정보반영 편향은 과소평가된 주식의 정보는 빨리 매수할수록 많은 수익을 창출할 수 있기에 빠르게 확산되나 <br>\n",
    "  $~~$ 과대평가된 주식의 정보는 비싸게 처분할 수 있도록 부정적인 정보가 확산되길 막아 늦게 반영되는 현상이다.<br>\n",
    "  $\\bullet$ 정보반영 편향을 줄이기 위해 증권 애널리스트, 증권거래위원회, 기업내부자(과도한 주가하락 방지), 공매도 세력이 부정적인 정보를 밝히려 애쓴다.<br>\n",
    "  $\\bullet$ 심리편향이란 같은 금액이라도 수익보다 손실에 더 민감하게 받아들이는 심리에 의해 주가 하락 시 투자자들이 가진 주식을 대거 매도하는 현상<br>\n",
    "  $~~$ 또는 주식의 과소평가, 과대평가에 대한 소문의 확산으로 다수의 사람들의 움직임을 따라하는 현상이다.<br>\n",
    "  $\\bullet$ 심리편향에 의해 주식의 거래량이 늘거나 줄어 S&P 500, 다우존스 지수 등이 가파르게 변화한다.<br>\n",
    "  $\\bullet$ 사회적 전이 편향은 인터넷 발전으로 밈주식에 관한 소문이 빠르게 확산되며 사회구성원의 경제적 사고나 행위에 유의미한 영향을 미치는 현상이다."
   ]
  },
  {
   "cell_type": "code",
   "execution_count": null,
   "id": "806fe46e",
   "metadata": {},
   "outputs": [],
   "source": []
  }
 ],
 "metadata": {
  "kernelspec": {
   "display_name": "Python 3 (ipykernel)",
   "language": "python",
   "name": "python3"
  },
  "language_info": {
   "codemirror_mode": {
    "name": "ipython",
    "version": 3
   },
   "file_extension": ".py",
   "mimetype": "text/x-python",
   "name": "python",
   "nbconvert_exporter": "python",
   "pygments_lexer": "ipython3",
   "version": "3.9.7"
  }
 },
 "nbformat": 4,
 "nbformat_minor": 5
}
