{
 "cells": [
  {
   "cell_type": "markdown",
   "id": "0a1f7ae9",
   "metadata": {},
   "source": [
    "## 투자 성과 분석 지표\n",
    "투자의 수익성, 리스크, 효율성 및 다른 중요한 측면을 평가하는 데 사용한다."
   ]
  },
  {
   "cell_type": "markdown",
   "id": "33d00de0",
   "metadata": {},
   "source": [
    "- 연평균 복리 수익률(CAGR)<br>\n",
    "  복리와 주가 변동을 보수적으로 반영한 일별 수익률의 기하 평균이다.  "
   ]
  },
  {
   "cell_type": "markdown",
   "id": "89ff0655",
   "metadata": {},
   "source": [
    "- 연율화 변동성(Vol)<br>\n",
    "  금융 자산의 방향에 대한 불확실성과 가격 등락에 대한 위험 예상 지표로 일별 수익률의 표준편차로 구한다.\n",
    "   $$\\sigma_{D} \\times \\sqrt{252}$$\n",
    "   $$(\\sigma_{D}: \\text{일별 수익률의 표준편차})$$"
   ]
  },
  {
   "cell_type": "markdown",
   "id": "6ef633d3",
   "metadata": {},
   "source": [
    "- 최대 낙폭(MSS)<br>\n",
    "  투자 기간 내 고점부터 저점까지 떨어진 낙폭 중 최댓값으로 수익 변동을 대변한다.  "
   ]
  },
  {
   "cell_type": "code",
   "execution_count": null,
   "id": "32513535",
   "metadata": {},
   "outputs": [],
   "source": [
    "stock['diff'] = stock['Close'] / stock['Close'].cummax() - 1\n",
    "stock['diff'].cummin().plot(title=\"최대 하락률 추세\")\n",
    "plt.show()\n",
    "\n",
    "print('MDD:' round(-1*stock['diff'].min()*100, 2), '%')"
   ]
  },
  {
   "cell_type": "markdown",
   "id": "b4569e8d",
   "metadata": {},
   "source": [
    "- 사후적 샤프 지수(Sharpe Ratio)<br>\n",
    "  위험 대비 수익성 지표로 실현 수익률의 산술평균과 표준편차로 구한다.<br>\n",
    "  $$\\frac{\\mu}/{\\sigma} * \\sqrt{252}$$\n",
    "  $$(\\mu: \\text{일별 수익률의 산술평균}, \\sigma: \\text{일별 수익률의 표준편차})$$ "
   ]
  },
  {
   "cell_type": "markdown",
   "id": "f1b46318",
   "metadata": {},
   "source": [
    "- 알파(Alpha)와 베타(Beta)"
   ]
  },
  {
   "cell_type": "markdown",
   "id": "a929fb42",
   "metadata": {},
   "source": [
    "- 트레이너 지수\n",
    "- 맥도날드 오실레이터(MACD)\n",
    "- 상대 강도 지수(RSI)"
   ]
  },
  {
   "cell_type": "code",
   "execution_count": null,
   "id": "3d57e262",
   "metadata": {},
   "outputs": [],
   "source": []
  }
 ],
 "metadata": {
  "kernelspec": {
   "display_name": "Python 3 (ipykernel)",
   "language": "python",
   "name": "python3"
  },
  "language_info": {
   "codemirror_mode": {
    "name": "ipython",
    "version": 3
   },
   "file_extension": ".py",
   "mimetype": "text/x-python",
   "name": "python",
   "nbconvert_exporter": "python",
   "pygments_lexer": "ipython3",
   "version": "3.9.12"
  }
 },
 "nbformat": 4,
 "nbformat_minor": 5
}
