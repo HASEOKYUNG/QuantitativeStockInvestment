{
 "cells": [
  {
   "cell_type": "markdown",
   "id": "e5d8740e",
   "metadata": {},
   "source": [
    "## Import"
   ]
  },
  {
   "cell_type": "code",
   "execution_count": 1,
   "id": "c89f032c",
   "metadata": {},
   "outputs": [],
   "source": [
    "import numpy as np\n",
    "np.random.seed(2023)\n",
    "import pandas as pd\n",
    "import FinanceDataReader as fdr\n",
    "from scipy.optimize import minimize\n",
    "from statsmodels.formula.api import ols\n",
    "import seaborn as sns\n",
    "import matplotlib.pyplot as plt\n",
    "plt.rc('font', family='Malgun Gothic')\n",
    "plt.rc('axes', unicode_minus=False)\n",
    "\n",
    "# ignore warnings\n",
    "import warnings ; warnings.filterwarnings('ignore')"
   ]
  },
  {
   "cell_type": "markdown",
   "id": "4bf17599",
   "metadata": {},
   "source": [
    "## Read Data"
   ]
  },
  {
   "cell_type": "code",
   "execution_count": 2,
   "id": "5021d4f8",
   "metadata": {},
   "outputs": [
    {
     "data": {
      "text/plain": [
       "(667, 8)"
      ]
     },
     "execution_count": 2,
     "metadata": {},
     "output_type": "execute_result"
    }
   ],
   "source": [
    "# 개별 주식데이터를 불러온다.\n",
    "stock_list = [[\"삼성전자\", \"005930\"],[\"SK하이닉스\", \"000660\"],[\"현대차\", \"005380\"],\n",
    "              [\"셀트리온\", \"068270\"],[\"LG화학\", \"051910\"],[\"POSCO\", \"005490\"],[\"삼성물산\", \"028260\"],[\"NAVER\", \"035420\"]]\n",
    "stocks = pd.concat([fdr.DataReader(code, '2021-01-01', '2023-09-11')['Close'].rename(name) for name, code in stock_list], axis=1)\n",
    "stocks.shape"
   ]
  },
  {
   "cell_type": "code",
   "execution_count": 3,
   "id": "1b1a4995",
   "metadata": {},
   "outputs": [
    {
     "data": {
      "text/plain": [
       "(664,)"
      ]
     },
     "execution_count": 3,
     "metadata": {},
     "output_type": "execute_result"
    }
   ],
   "source": [
    "# 종합주가지수(KOSPI)를 불러온다.\n",
    "kospi = fdr.DataReader('KS11', '2021-01-01', '2023-09-11')['Close'].rename('kospi')\n",
    "kospi.shape"
   ]
  },
  {
   "cell_type": "code",
   "execution_count": 4,
   "id": "6a2e1995",
   "metadata": {},
   "outputs": [
    {
     "data": {
      "text/plain": [
       "(667, 9)"
      ]
     },
     "execution_count": 4,
     "metadata": {},
     "output_type": "execute_result"
    }
   ],
   "source": [
    "data = pd.concat([stocks,kospi], axis=1)\n",
    "data.shape"
   ]
  },
  {
   "cell_type": "markdown",
   "id": "8a7c9d8e",
   "metadata": {},
   "source": [
    "## CAPM\n",
    "효율적 시장 내 균형상태(수요와 공급이 일치되도록 가격이 형성된 상태)에서 자산의 기대수익률과 위험간 관계를 설명한 가격결정이론이다.\n",
    "- 균형상태인 접점포트폴리오는 시장포트폴리오라고 하며 시장포트폴리오가 위험자산의 시장가치대로 구성되지 않으면 자산에 대한 초과수요나 초과공급이 발생해 균형이 흐트러진다.\n",
    "- CAPM은 아래의 가정을 갖는다.<br>\n",
    "  $\\bullet$ 대부분의 투자자는 위험회피 성향을 띄며 평균-분산 포트폴리오를 기준으로 포트폴리오를 선택한다.<br>\n",
    "  $\\bullet$ 증권시장은 완전경쟁시장이며 공급은 고정되어있고 거래비용 세금과 공매도 제한은 없다.<br>\n",
    "  $~$ 시장정보는 누구에게나 자유롭게 전달된다.(비현실적 가정)<br>\n",
    "  $\\bullet$ 모든 투자자는 기대수익률, 분산, 공분산에 대한 같은 기대를 한다. 즉, 도박성 투자자는 없다.<br>\n",
    "  $\\bullet$ 무위험자산이 존재하며 모든 투자자는 무위험이자율로 얼마든 자금을 빌려주거나 차업할 수 있다.<br>\n",
    "  $\\bullet$ 투자 대상은 공개적으로 거래되는 금융자산으로 한정한다.\n",
    "- SML(증권시장선), CML(자본시장선) 등을 통해 이론을 펼친다."
   ]
  },
  {
   "cell_type": "markdown",
   "id": "e053f29c",
   "metadata": {},
   "source": [
    "## SML\n",
    "시장에서 거래되는 모든 자산에 대해 균형상태 하의 기대수익률과 위험간의 관계를 나타낸다.\n",
    "$$\\large E(r_i) = r_f + [E(r_m) - r_f] \\times \\beta_i = r_f + \\text{시장리스크프리미엄} \\times \\beta_i$$\n",
    "$$(E(r_i): \\text{자산}i\\text{의 기대수익률}, r_f: \\text{무위험이자율}, E(r_m): \\text{시장포트폴리오의 기대수익률})$$\n",
    "- $\\beta_i$는 해당 자산과 시장수익률간 상관관계(변동성)을 의미하며 동시에 해당 종목의 투자시장 진입하는 모두에게 발생하는 위험(시장위험)을 의미한다.\n",
    "- $\\beta_i$의 의미에 따라 SML로 설명되는 자산 $i$의 수익률은 체계적 위험에 상응하는 요구수익률이자 기업 가치를 반영한 자기자본비용 또는 주식평가를 위한 적정할인율을 의미한다.\n",
    "- $\\beta$가 클수록 대형주, 작을수록 소형주이고 $\\beta$가 1에 가까우면 시장흐름을 잘 따라간다는 뜻이다.\n",
    "- SML은 자산의 기대수익률과 `자산의 위험`($\\beta$)의 선형관계식이다. 즉, 위험을 주가변동성으로 본다. \n",
    "- 자산의 $\\beta$에 대한 SML의 기대수익률(Y값)보다 자산의 기대수익률이 높다면 과소평가된 자산이다.<br> 추후 자산 매입수요가 늘고 기대수익률이 낮아지며 SML에 위치하게 될 것이다.\n",
    "- 반대로, 자산의 $\\beta$에 대한 SML의 기대수익률(Y값)보다 자산의 기대수익률이 낮다면 과대평가된 자산이다.<br> 추후 자산 매도수요가 늘고 기대수익률이 높아지며 SML에 위치하게 될 것이다."
   ]
  },
  {
   "cell_type": "markdown",
   "id": "947199b1",
   "metadata": {},
   "source": [
    "## CML\n",
    "시장포트폴리오와 무위험자산으로 분산투자한 경우에 대해 균형상태 하의 기대수익률과 위험간의 관계를 나타낸다.\n",
    "$$\\large E(r_p) = r_f + \\frac{E(r_m)-r_f}{\\sigma_m} \\times \\sigma_p$$\n",
    "- 효율적 시장을 가정하는 만큼, 비효율적 포트폴리오의 기대수익률과 위험간 관계는 설명하지 못한다."
   ]
  },
  {
   "cell_type": "markdown",
   "id": "c2580e08",
   "metadata": {},
   "source": [
    "## 시장모형\n",
    "현실적으로 시장포트폴리오를 찾기 어려워 CAPM에서 시장포트폴리오 대신 `종합주가지수`를 사용한 가격결정모형이다.\n",
    "- 증권특성선(SCL)의 $\\beta$는 아래와 같다. $\\beta$는 회귀분석을 통해 추정한다.\n",
    "  $$\\large r_i = \\alpha_i + \\beta_i r_M + e_i, \\beta_i = \\frac{COV(r_i, r_M)}{Var(r_M)} = \\frac{\\sigma_{iM}}{\\sigma^2_M} = \\frac{\\rho_{iM}\\cdot\\sigma_i}{\\sigma_M}$$\n",
    "- $\\alpha_i$는 기업 가치를 의미한다."
   ]
  },
  {
   "cell_type": "markdown",
   "id": "42fab3c2",
   "metadata": {},
   "source": [
    "## Example 1\n",
    "SCL의 수식을 사용해 $\\beta$를 구해보라."
   ]
  },
  {
   "cell_type": "code",
   "execution_count": 5,
   "id": "76962dee",
   "metadata": {
    "scrolled": true
   },
   "outputs": [
    {
     "data": {
      "text/html": [
       "<div>\n",
       "<style scoped>\n",
       "    .dataframe tbody tr th:only-of-type {\n",
       "        vertical-align: middle;\n",
       "    }\n",
       "\n",
       "    .dataframe tbody tr th {\n",
       "        vertical-align: top;\n",
       "    }\n",
       "\n",
       "    .dataframe thead th {\n",
       "        text-align: right;\n",
       "    }\n",
       "</style>\n",
       "<table border=\"1\" class=\"dataframe\">\n",
       "  <thead>\n",
       "    <tr style=\"text-align: right;\">\n",
       "      <th></th>\n",
       "      <th>삼성전자</th>\n",
       "      <th>SK하이닉스</th>\n",
       "      <th>현대차</th>\n",
       "      <th>셀트리온</th>\n",
       "      <th>LG화학</th>\n",
       "      <th>POSCO</th>\n",
       "      <th>삼성물산</th>\n",
       "      <th>NAVER</th>\n",
       "      <th>kospi</th>\n",
       "    </tr>\n",
       "    <tr>\n",
       "      <th>Date</th>\n",
       "      <th></th>\n",
       "      <th></th>\n",
       "      <th></th>\n",
       "      <th></th>\n",
       "      <th></th>\n",
       "      <th></th>\n",
       "      <th></th>\n",
       "      <th></th>\n",
       "      <th></th>\n",
       "    </tr>\n",
       "  </thead>\n",
       "  <tbody>\n",
       "    <tr>\n",
       "      <th>2023-07-31</th>\n",
       "      <td>-0.033241</td>\n",
       "      <td>0.071181</td>\n",
       "      <td>-0.050847</td>\n",
       "      <td>-0.041203</td>\n",
       "      <td>-0.028486</td>\n",
       "      <td>0.654639</td>\n",
       "      <td>-0.022706</td>\n",
       "      <td>0.241794</td>\n",
       "      <td>0.026635</td>\n",
       "    </tr>\n",
       "    <tr>\n",
       "      <th>2021-05-31</th>\n",
       "      <td>-0.012270</td>\n",
       "      <td>-0.007812</td>\n",
       "      <td>0.108491</td>\n",
       "      <td>0.031954</td>\n",
       "      <td>-0.121245</td>\n",
       "      <td>-0.024725</td>\n",
       "      <td>0.018382</td>\n",
       "      <td>0.008345</td>\n",
       "      <td>0.017809</td>\n",
       "    </tr>\n",
       "    <tr>\n",
       "      <th>2022-05-31</th>\n",
       "      <td>0.000000</td>\n",
       "      <td>-0.040000</td>\n",
       "      <td>0.018817</td>\n",
       "      <td>-0.088069</td>\n",
       "      <td>0.127168</td>\n",
       "      <td>0.000000</td>\n",
       "      <td>0.047619</td>\n",
       "      <td>0.005236</td>\n",
       "      <td>-0.003395</td>\n",
       "    </tr>\n",
       "    <tr>\n",
       "      <th>2022-08-31</th>\n",
       "      <td>-0.027687</td>\n",
       "      <td>-0.027579</td>\n",
       "      <td>0.000000</td>\n",
       "      <td>-0.002634</td>\n",
       "      <td>0.048093</td>\n",
       "      <td>0.053719</td>\n",
       "      <td>0.000000</td>\n",
       "      <td>-0.073359</td>\n",
       "      <td>0.008383</td>\n",
       "    </tr>\n",
       "    <tr>\n",
       "      <th>2021-10-31</th>\n",
       "      <td>-0.058030</td>\n",
       "      <td>0.000000</td>\n",
       "      <td>0.040000</td>\n",
       "      <td>-0.227361</td>\n",
       "      <td>0.077320</td>\n",
       "      <td>-0.103030</td>\n",
       "      <td>-0.076923</td>\n",
       "      <td>0.048969</td>\n",
       "      <td>-0.031980</td>\n",
       "    </tr>\n",
       "  </tbody>\n",
       "</table>\n",
       "</div>"
      ],
      "text/plain": [
       "                삼성전자    SK하이닉스       현대차      셀트리온      LG화학     POSCO  \\\n",
       "Date                                                                     \n",
       "2023-07-31 -0.033241  0.071181 -0.050847 -0.041203 -0.028486  0.654639   \n",
       "2021-05-31 -0.012270 -0.007812  0.108491  0.031954 -0.121245 -0.024725   \n",
       "2022-05-31  0.000000 -0.040000  0.018817 -0.088069  0.127168  0.000000   \n",
       "2022-08-31 -0.027687 -0.027579  0.000000 -0.002634  0.048093  0.053719   \n",
       "2021-10-31 -0.058030  0.000000  0.040000 -0.227361  0.077320 -0.103030   \n",
       "\n",
       "                삼성물산     NAVER     kospi  \n",
       "Date                                      \n",
       "2023-07-31 -0.022706  0.241794  0.026635  \n",
       "2021-05-31  0.018382  0.008345  0.017809  \n",
       "2022-05-31  0.047619  0.005236 -0.003395  \n",
       "2022-08-31  0.000000 -0.073359  0.008383  \n",
       "2021-10-31 -0.076923  0.048969 -0.031980  "
      ]
     },
     "execution_count": 5,
     "metadata": {},
     "output_type": "execute_result"
    }
   ],
   "source": [
    "# 1. 월별 수익률을 구한다.\n",
    "# pct_change(n)은 k번째 데이터와 k-n번째 데이터로 구한 수익률을 의미한다.\n",
    "data_m = data.resample('M').last().dropna().pct_change(1)\n",
    "data_m.sample(5)"
   ]
  },
  {
   "cell_type": "code",
   "execution_count": 6,
   "id": "1925ef46",
   "metadata": {},
   "outputs": [
    {
     "name": "stdout",
     "output_type": "stream",
     "text": [
      "삼성전자의 beta: 0.9865278724794586\n"
     ]
    }
   ],
   "source": [
    "# 2. SCL을 기반으로 beta를 구한다.\n",
    "# 삼성전자의 beta는 1에 가까워 시장흐름을 많이 반영하고 있음을 알 수 있다.\n",
    "beta = data_m[['삼성전자','kospi']].cov().iloc[0,1]/data_m['kospi'].var()\n",
    "print('삼성전자의 beta:', beta)"
   ]
  },
  {
   "cell_type": "code",
   "execution_count": 7,
   "id": "7176ea7c",
   "metadata": {},
   "outputs": [
    {
     "name": "stdout",
     "output_type": "stream",
     "text": [
      "삼성전자 기대수익률: -0.002637764594747776, SML상 삼성전자 기대수익률: -0.0033678898642958656\n"
     ]
    }
   ],
   "source": [
    "# 3. beta를 SML에 대입 후 해석한다. 단, 무위험이자율은 0으로 한다.\n",
    "# 증권시장선보다 위에 있음으로 과소평가되어 있다.\n",
    "sml_expRate = 0 + (data_m['kospi'].mean() - 0)*beta\n",
    "expRate = data_m['삼성전자'].mean()\n",
    "print(f'삼성전자 기대수익률: {expRate}, SML상 삼성전자 기대수익률: {sml_expRate}')"
   ]
  },
  {
   "cell_type": "markdown",
   "id": "eff3a8c8",
   "metadata": {},
   "source": [
    "## Example 2\n",
    "회귀분석 모형을 사용해 $\\beta$를 구해보라."
   ]
  },
  {
   "cell_type": "code",
   "execution_count": 8,
   "id": "90795e94",
   "metadata": {},
   "outputs": [],
   "source": [
    "# 1. 월별 수익률을 구한다.\n",
    "# 위의 data_m을 그대로 사용한다."
   ]
  },
  {
   "cell_type": "code",
   "execution_count": 9,
   "id": "dfb0e65d",
   "metadata": {},
   "outputs": [
    {
     "name": "stdout",
     "output_type": "stream",
     "text": [
      "                            OLS Regression Results                            \n",
      "==============================================================================\n",
      "Dep. Variable:                   삼성전자   R-squared:                       0.700\n",
      "Model:                            OLS   Adj. R-squared:                  0.690\n",
      "Method:                 Least Squares   F-statistic:                     69.94\n",
      "Date:                Tue, 24 Oct 2023   Prob (F-statistic):           2.47e-09\n",
      "Time:                        11:40:44   Log-Likelihood:                 62.858\n",
      "No. Observations:                  32   AIC:                            -121.7\n",
      "Df Residuals:                      30   BIC:                            -118.8\n",
      "Df Model:                           1                                         \n",
      "Covariance Type:            nonrobust                                         \n",
      "==============================================================================\n",
      "                 coef    std err          t      P>|t|      [0.025      0.975]\n",
      "------------------------------------------------------------------------------\n",
      "Intercept      0.0007      0.006      0.118      0.907      -0.012       0.013\n",
      "kospi          0.9865      0.118      8.363      0.000       0.746       1.227\n",
      "==============================================================================\n",
      "Omnibus:                        1.955   Durbin-Watson:                   1.630\n",
      "Prob(Omnibus):                  0.376   Jarque-Bera (JB):                1.532\n",
      "Skew:                           0.359   Prob(JB):                        0.465\n",
      "Kurtosis:                       2.204   Cond. No.                         19.0\n",
      "==============================================================================\n",
      "\n",
      "Notes:\n",
      "[1] Standard Errors assume that the covariance matrix of the errors is correctly specified.\n"
     ]
    }
   ],
   "source": [
    "# 2. 회귀모형을 적합한다.\n",
    "capm_model = ols(\"삼성전자 ~ kospi\", data = data_m).fit()\n",
    "print(capm_model.summary())"
   ]
  },
  {
   "cell_type": "code",
   "execution_count": 10,
   "id": "d5fe16e3",
   "metadata": {},
   "outputs": [
    {
     "data": {
      "image/png": "[encoded data removed]",
      "text/plain": [
       "<Figure size 576x360 with 1 Axes>"
      ]
     },
     "metadata": {
      "needs_background": "light"
     },
     "output_type": "display_data"
    }
   ],
   "source": [
    "plt.figure(figsize=(8,5))\n",
    "p = sns.regplot(x=data_m['kospi'],  y=data_m['삼성전자'], \n",
    "                scatter_kws={\"color\": \"blue\"}, line_kws={\"color\": \"red\"}, fit_reg=True)\n",
    "p.set_xlabel(\"시장수익률\", fontsize = 12)\n",
    "p.set_ylabel(\"삼성전자수익률\", fontsize = 12)\n",
    "plt.grid()\n",
    "plt.show()"
   ]
  },
  {
   "cell_type": "code",
   "execution_count": 12,
   "id": "fe1bffd0",
   "metadata": {},
   "outputs": [
    {
     "data": {
      "text/plain": [
       "Date\n",
       "2021-01-31         NaN\n",
       "2021-02-28   -0.006811\n",
       "2021-03-31   -0.029934\n",
       "2021-04-30   -0.027357\n",
       "2021-05-31   -0.030569\n",
       "Freq: M, dtype: float64"
      ]
     },
     "execution_count": 12,
     "metadata": {},
     "output_type": "execute_result"
    }
   ],
   "source": [
    "# SCL을 바탕으로 회귀계수로 구한 예측값과 실제값간 차이를 구할 수 있다.\n",
    "error = data_m['삼성전자'] - (capm_model.params[0] + data_m['kospi']*capm_model.params[1])\n",
    "error.head()"
   ]
  },
  {
   "cell_type": "markdown",
   "id": "80934019",
   "metadata": {},
   "source": [
    "## Example 3\n",
    "data 내 모든 기업의 $\\alpha, \\beta, error$를 산출하고 시장모형의 성능을 평가하시오."
   ]
  },
  {
   "cell_type": "code",
   "execution_count": 13,
   "id": "4960faca",
   "metadata": {},
   "outputs": [
    {
     "data": {
      "text/html": [
       "<div>\n",
       "<style scoped>\n",
       "    .dataframe tbody tr th:only-of-type {\n",
       "        vertical-align: middle;\n",
       "    }\n",
       "\n",
       "    .dataframe tbody tr th {\n",
       "        vertical-align: top;\n",
       "    }\n",
       "\n",
       "    .dataframe thead th {\n",
       "        text-align: right;\n",
       "    }\n",
       "</style>\n",
       "<table border=\"1\" class=\"dataframe\">\n",
       "  <thead>\n",
       "    <tr style=\"text-align: right;\">\n",
       "      <th></th>\n",
       "      <th>alpha</th>\n",
       "      <th>beta</th>\n",
       "      <th>expRate</th>\n",
       "    </tr>\n",
       "  </thead>\n",
       "  <tbody>\n",
       "    <tr>\n",
       "      <th>삼성전자</th>\n",
       "      <td>0.000730</td>\n",
       "      <td>0.986528</td>\n",
       "      <td>-0.002638</td>\n",
       "    </tr>\n",
       "    <tr>\n",
       "      <th>SK하이닉스</th>\n",
       "      <td>0.005617</td>\n",
       "      <td>1.061824</td>\n",
       "      <td>0.001992</td>\n",
       "    </tr>\n",
       "    <tr>\n",
       "      <th>현대차</th>\n",
       "      <td>-0.002298</td>\n",
       "      <td>0.687462</td>\n",
       "      <td>-0.004645</td>\n",
       "    </tr>\n",
       "    <tr>\n",
       "      <th>셀트리온</th>\n",
       "      <td>-0.016016</td>\n",
       "      <td>0.434150</td>\n",
       "      <td>-0.017498</td>\n",
       "    </tr>\n",
       "    <tr>\n",
       "      <th>LG화학</th>\n",
       "      <td>-0.006120</td>\n",
       "      <td>1.071966</td>\n",
       "      <td>-0.009780</td>\n",
       "    </tr>\n",
       "    <tr>\n",
       "      <th>POSCO</th>\n",
       "      <td>0.041454</td>\n",
       "      <td>1.623023</td>\n",
       "      <td>0.035913</td>\n",
       "    </tr>\n",
       "    <tr>\n",
       "      <th>삼성물산</th>\n",
       "      <td>-0.001264</td>\n",
       "      <td>0.716000</td>\n",
       "      <td>-0.003708</td>\n",
       "    </tr>\n",
       "    <tr>\n",
       "      <th>NAVER</th>\n",
       "      <td>-0.005854</td>\n",
       "      <td>1.219687</td>\n",
       "      <td>-0.010018</td>\n",
       "    </tr>\n",
       "  </tbody>\n",
       "</table>\n",
       "</div>"
      ],
      "text/plain": [
       "           alpha      beta   expRate\n",
       "삼성전자    0.000730  0.986528 -0.002638\n",
       "SK하이닉스  0.005617  1.061824  0.001992\n",
       "현대차    -0.002298  0.687462 -0.004645\n",
       "셀트리온   -0.016016  0.434150 -0.017498\n",
       "LG화학   -0.006120  1.071966 -0.009780\n",
       "POSCO   0.041454  1.623023  0.035913\n",
       "삼성물산   -0.001264  0.716000 -0.003708\n",
       "NAVER  -0.005854  1.219687 -0.010018"
      ]
     },
     "execution_count": 13,
     "metadata": {},
     "output_type": "execute_result"
    }
   ],
   "source": [
    "# 1. 각 기업 주식에 대한 SCL parameter값을 구한다.\n",
    "result = [[c]+ols(f\"{c} ~ kospi\", data = data_m).fit().params.tolist() for c in data.columns[:-1]]\n",
    "result = pd.concat([pd.DataFrame(result).set_index(0), data_m.iloc[:,:-1].mean()], axis=1)\n",
    "result.columns = ['alpha','beta','expRate']\n",
    "result"
   ]
  },
  {
   "cell_type": "code",
   "execution_count": 14,
   "id": "1b8cbd20",
   "metadata": {},
   "outputs": [
    {
     "name": "stdout",
     "output_type": "stream",
     "text": [
      "                            OLS Regression Results                            \n",
      "==============================================================================\n",
      "Dep. Variable:                expRate   R-squared:                       0.589\n",
      "Model:                            OLS   Adj. R-squared:                  0.521\n",
      "Method:                 Least Squares   F-statistic:                     8.606\n",
      "Date:                Tue, 24 Oct 2023   Prob (F-statistic):             0.0262\n",
      "Time:                        11:41:33   Log-Likelihood:                 25.750\n",
      "No. Observations:                   8   AIC:                            -47.50\n",
      "Df Residuals:                       6   BIC:                            -47.34\n",
      "Df Model:                           1                                         \n",
      "Covariance Type:            nonrobust                                         \n",
      "==============================================================================\n",
      "                 coef    std err          t      P>|t|      [0.025      0.975]\n",
      "------------------------------------------------------------------------------\n",
      "Intercept     -0.0343      0.012     -2.877      0.028      -0.063      -0.005\n",
      "beta           0.0338      0.012      2.934      0.026       0.006       0.062\n",
      "==============================================================================\n",
      "Omnibus:                        0.331   Durbin-Watson:                   2.145\n",
      "Prob(Omnibus):                  0.847   Jarque-Bera (JB):                0.321\n",
      "Skew:                          -0.337   Prob(JB):                        0.852\n",
      "Kurtosis:                       2.286   Cond. No.                         5.87\n",
      "==============================================================================\n",
      "\n",
      "Notes:\n",
      "[1] Standard Errors assume that the covariance matrix of the errors is correctly specified.\n"
     ]
    }
   ],
   "source": [
    "# 2. 모델 설명력을 확인한다.\n",
    "# 이론과 달리 beta는 수익률을 제대로 설명하지 못한다. 위험이 커도 수익률은 작을 수 있다는 뜻이다.\n",
    "stock_model = ols('expRate ~ beta', data=result).fit()\n",
    "print(stock_model.summary())"
   ]
  },
  {
   "cell_type": "code",
   "execution_count": 15,
   "id": "58b6e2b1",
   "metadata": {},
   "outputs": [
    {
     "name": "stdout",
     "output_type": "stream",
     "text": [
      "                            OLS Regression Results                            \n",
      "==============================================================================\n",
      "Dep. Variable:                expRate   R-squared:                       0.998\n",
      "Model:                            OLS   Adj. R-squared:                  0.997\n",
      "Method:                 Least Squares   F-statistic:                     2733.\n",
      "Date:                Tue, 24 Oct 2023   Prob (F-statistic):           3.29e-09\n",
      "Time:                        11:41:34   Log-Likelihood:                 46.686\n",
      "No. Observations:                   8   AIC:                            -89.37\n",
      "Df Residuals:                       6   BIC:                            -89.21\n",
      "Df Model:                           1                                         \n",
      "Covariance Type:            nonrobust                                         \n",
      "==============================================================================\n",
      "                 coef    std err          t      P>|t|      [0.025      0.975]\n",
      "------------------------------------------------------------------------------\n",
      "Intercept     -0.0032      0.000    -11.038      0.000      -0.004      -0.002\n",
      "alpha          0.9418      0.018     52.279      0.000       0.898       0.986\n",
      "==============================================================================\n",
      "Omnibus:                        0.813   Durbin-Watson:                   2.088\n",
      "Prob(Omnibus):                  0.666   Jarque-Bera (JB):                0.644\n",
      "Skew:                          -0.518   Prob(JB):                        0.725\n",
      "Kurtosis:                       2.073   Cond. No.                         62.4\n",
      "==============================================================================\n",
      "\n",
      "Notes:\n",
      "[1] Standard Errors assume that the covariance matrix of the errors is correctly specified.\n"
     ]
    }
   ],
   "source": [
    "# 반대로 alpha는 수익률을 잘 설명한다.\n",
    "# 즉, 우리나라 주식은 주식시장 위험에 좌지우지 하지 않고 각 회사의 특성(운영, 회계 등)에 따라서만 수익률이 좌우된다.\n",
    "stock_model = ols(\"expRate ~ alpha\", data = result).fit()\n",
    "print(stock_model.summary())"
   ]
  },
  {
   "cell_type": "code",
   "execution_count": 16,
   "id": "eeee79f3",
   "metadata": {},
   "outputs": [
    {
     "data": {
      "image/png": "[encoded data removed]",
      "text/plain": [
       "<Figure size 1152x360 with 2 Axes>"
      ]
     },
     "metadata": {
      "needs_background": "light"
     },
     "output_type": "display_data"
    }
   ],
   "source": [
    "fig, ax = plt.subplots(1,2, figsize=(16,5))\n",
    "sns.regplot(x=result['beta'],  y=result['expRate'], ax=ax[0],\n",
    "            scatter_kws={\"color\": \"blue\"}, line_kws={\"color\": \"red\"}, fit_reg=True)\n",
    "ax[0].set_title(\"설명변수 beta\")\n",
    "ax[0].set_xlabel(\"beta\", fontsize = 12)\n",
    "ax[0].set_ylabel(\"평균수익률\", fontsize = 12)\n",
    "\n",
    "sns.regplot(x=result['alpha'],  y=result['expRate'], ax=ax[1],\n",
    "            scatter_kws={\"color\": \"blue\"}, line_kws={\"color\": \"red\"}, fit_reg=True)\n",
    "ax[1].set_title(\"설명변수 alpha\")\n",
    "ax[1].set_xlabel(\"alpha\", fontsize = 12)\n",
    "ax[1].set_ylabel(\"\")\n",
    "plt.grid()\n",
    "plt.show()"
   ]
  },
  {
   "cell_type": "code",
   "execution_count": null,
   "id": "6b6f6b66",
   "metadata": {},
   "outputs": [],
   "source": []
  },
  {
   "cell_type": "code",
   "execution_count": null,
   "id": "febd0663",
   "metadata": {},
   "outputs": [],
   "source": []
  }
 ],
 "metadata": {
  "kernelspec": {
   "display_name": "Python 3 (ipykernel)",
   "language": "python",
   "name": "python3"
  },
  "language_info": {
   "codemirror_mode": {
    "name": "ipython",
    "version": 3
   },
   "file_extension": ".py",
   "mimetype": "text/x-python",
   "name": "python",
   "nbconvert_exporter": "python",
   "pygments_lexer": "ipython3",
   "version": "3.9.12"
  }
 },
 "nbformat": 4,
 "nbformat_minor": 5
}
