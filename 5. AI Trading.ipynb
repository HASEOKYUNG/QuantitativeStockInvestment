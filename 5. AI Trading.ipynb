{
 "cells": [
  {
   "cell_type": "markdown",
   "id": "546dbcd9",
   "metadata": {},
   "source": [
    "### 금융 데이터 분석에 머신러닝이 활발히 쓰이지 않고 있는 이유는?\n",
    "- 빅데이터를 학습하는 머신러닝 기법은 장이 열리는 날에만 1개의 데이터가 발생하기에 데이터 수가 적어 학습시키기 어렵다.\n",
    "- 과거 패턴을 학습해 미래를 예측하는 기법이나 추세가 이어지지 않고 불규칙 변동이 있는 시계열 데이터로 훌륭한 성능을 보이기 어렵다.\n",
    "- GDP, CLI지수 등의 지표는 일별 발표되지 않고 주간, 월간 집계로 값이 산출되어 정확한 시점 데이터 예측이 어렵다.\n",
    "- 금융지표간 상관관계가 높아 모델 학습시 다중공선성에 의한 과적합 위험이 높다.\n",
    "- 기존 ML의 Cross-Validation은 시간적 요소를 고려하지 않는다. \n",
    "\n",
    "### 최근 AI기술은 어떻게 반영되고 있는가?\n",
    "- 학습 데이터를 추가 생성한다.\n",
    "- 주식시장 및 가격에 영향을 미치는 원유가격, 선물가격, 지표 등의 파생변수를 예측한다.<br>\n",
    "  $\\bullet$ 날씨 데이터로 선물 가격 예측<br>\n",
    "  $\\bullet$ 원유 탱크의 그림자로 원유량 예측 후 시장가격을 예측한다.\n",
    "- 홍수처럼 쏟아지는 뉴스와 생성모델로 만들어진 가짜 정보들을 정제해 유의한 정보를 제공한다.\n",
    "- 시장의 사이클, 모멘텀, Value, 감성분석으로 주식시장의 알파를 구한다. 최근 DNN, CNN, 베이지안 NLP, 유전알고리즘 등이 사용된다.\n",
    "\n",
    "### 주식시장 추세를 직접적으로 예측하는 기술은 무엇이 있는가?\n",
    "- SVM이나 RandomForest는 주식가격을 예측하는데 유용하다.\n",
    "- XGB, LGBM도 활발히 사용되나 데이터수가 적으면 과적합 위험이 높아 Bagging을 더 선호한다."
   ]
  },
  {
   "cell_type": "markdown",
   "id": "81a31b6e",
   "metadata": {},
   "source": [
    "### 직접적으로 머신러닝 기술을 쓰기 위한 방법\n",
    "- Target: 주식의 상승/유지/하락을 Classification하되 상승률과 하락률에 따른 모델 학습 가중치를 다르게 한다.\n",
    "- 데이터 전처리<br>\n",
    "  $\\bullet$ SVD(특이값 분해)로 노이즈를 제거한다.<br>\n",
    "  $\\bullet$ 이동평균과 지수이동평균이나 웨이블릿 변환을 통해 추세와 변동을 분리한다.<br>\n",
    "  $\\bullet$ Autoencoder로 노이즈를 제거할 수 있다. 실제로 CNN 기반의 SAE는 뛰어난 성능을 보였다.\n",
    "- 데이터 불균형<br>\n",
    "  $\\bullet$"
   ]
  },
  {
   "cell_type": "code",
   "execution_count": null,
   "id": "a77e71fa",
   "metadata": {},
   "outputs": [],
   "source": []
  }
 ],
 "metadata": {
  "kernelspec": {
   "display_name": "Python 3 (ipykernel)",
   "language": "python",
   "name": "python3"
  },
  "language_info": {
   "codemirror_mode": {
    "name": "ipython",
    "version": 3
   },
   "file_extension": ".py",
   "mimetype": "text/x-python",
   "name": "python",
   "nbconvert_exporter": "python",
   "pygments_lexer": "ipython3",
   "version": "3.9.12"
  }
 },
 "nbformat": 4,
 "nbformat_minor": 5
}
